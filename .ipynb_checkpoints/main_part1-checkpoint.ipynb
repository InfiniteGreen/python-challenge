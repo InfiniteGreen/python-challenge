{
 "cells": [
  {
   "cell_type": "code",
   "execution_count": 1,
   "metadata": {},
   "outputs": [],
   "source": [
    "# Dependencies\n",
    "import os\n",
    "import csv"
   ]
  },
  {
   "cell_type": "code",
   "execution_count": 2,
   "metadata": {},
   "outputs": [],
   "source": [
    "#filepath budget_data.csv\n",
    "budget_path = os.path.join('PyBank','Resources','budget_data.csv')"
   ]
  },
  {
   "cell_type": "code",
   "execution_count": 3,
   "metadata": {},
   "outputs": [],
   "source": [
    "#define variables\n",
    "total=0\n",
    "new_buget_list=[]\n",
    "new_buget_date=[]\n",
    "buget_change=[]\n",
    "max_profit_date=''\n",
    "max_profit_num=0\n",
    "min_profit_date=''\n",
    "min_profit_num=0"
   ]
  },
  {
   "cell_type": "code",
   "execution_count": 4,
   "metadata": {},
   "outputs": [],
   "source": [
    "#read file\n",
    "\n",
    "with open (budget_path, newline='') as budget_csv:\n",
    "    #split into columns\n",
    "    budget_reader = csv.reader(budget_csv,delimiter=',')\n",
    "    #print(budget_reader)\n",
    "    header = next(budget_reader)\n",
    "    #Loop through the data\n",
    "    for row in budget_reader:              \n",
    "        total += int(row[1])\n",
    "        new_buget_list.append(int(row[1]))\n",
    "        new_buget_date.append(row[0])\n",
    "\n",
    "# Generate a list with budget changes\n",
    "i=1\n",
    "while i<len(new_buget_list):    \n",
    "    buget_change.append((new_buget_list[i]-new_buget_list[i-1]))\n",
    "    i+=1\n",
    "\n",
    "    \n",
    "#         if int(row[1])>=0:\n",
    "#             if int(row[1])>max_profit_num:\n",
    "#                 max_profit_num = int(row[1])\n",
    "#                 max_profit_date = row[0]\n",
    "#         else:\n",
    "#             if int(row[1])<min_profit_num:\n",
    "#                 min_profit_num = int(row[1])\n",
    "#                 min_profit_date = row[0]"
   ]
  },
  {
   "cell_type": "code",
   "execution_count": 5,
   "metadata": {},
   "outputs": [],
   "source": [
    "# Calculate Max & Min budge change\n",
    "max_profit_num=max(buget_change)\n",
    "max_profit_date=new_buget_date[buget_change.index(max_profit_num)+1]\n",
    "min_profit_num=min(buget_change)\n",
    "min_profit_date=new_buget_date[buget_change.index(min_profit_num)+1]"
   ]
  },
  {
   "cell_type": "code",
   "execution_count": 6,
   "metadata": {},
   "outputs": [],
   "source": [
    "#Calculate total month\n",
    "total_month = len(new_buget_list)\n",
    "#Calculate Average  Change\n",
    "ave_change = round(sum(buget_change)/len(buget_change),2)    "
   ]
  },
  {
   "cell_type": "code",
   "execution_count": 7,
   "metadata": {},
   "outputs": [
    {
     "name": "stdout",
     "output_type": "stream",
     "text": [
      "Financial Analysis\n",
      "==================\n",
      "Total Months: 86\n",
      "Total: $38382578\n",
      "Average  Change: $-2315.12\n",
      "Greatest Increase in Profits: Feb-2012 ($1926159)\n",
      "Greatest Decrease in Profits: Sep-2013 ($-2196167)\n"
     ]
    }
   ],
   "source": [
    "#Print results\n",
    "print(\"Financial Analysis\")\n",
    "print(\"==================\")\n",
    "print('Total Months: ' + str(total_month))\n",
    "print('Total: $' + str(total))\n",
    "print('Average  Change: $' + str(ave_change))\n",
    "print('Greatest Increase in Profits: ' + max_profit_date + ' ($' + str(max_profit_num) + ')')\n",
    "print('Greatest Decrease in Profits: ' + min_profit_date + ' ($' + str(min_profit_num) + ')')"
   ]
  },
  {
   "cell_type": "code",
   "execution_count": 8,
   "metadata": {},
   "outputs": [],
   "source": [
    "# Specify the file to write to\n",
    "output_path = os.path.join(\"budget_out.csv\")"
   ]
  },
  {
   "cell_type": "code",
   "execution_count": 9,
   "metadata": {},
   "outputs": [],
   "source": [
    "# Open the file using \"write\" mode\n",
    "with open(output_path, 'w', newline='') as budgetfile:\n",
    "\n",
    "    # Initialize csv.writer\n",
    "    csvwriter = csv.writer(budgetfile)\n",
    "\n",
    "    # Write the rows\n",
    "    csvwriter.writerow([\"Financial Analysis\"])\n",
    "    csvwriter.writerow([\"==================\"])\n",
    "    csvwriter.writerow([\"Total Months: \" + str(total_month)])\n",
    "    csvwriter.writerow(['Total: $' + str(total)])\n",
    "    csvwriter.writerow(['Average  Change: $' + str(ave_change)])\n",
    "    csvwriter.writerow(['Greatest Increase in Profits: ' + max_profit_date + ' ($' + str(max_profit_num) + ')'])\n",
    "    csvwriter.writerow(['Greatest Decrease in Profits: ' + min_profit_date + ' ($' + str(min_profit_num) + ')'])"
   ]
  }
 ],
 "metadata": {
  "kernelspec": {
   "display_name": "Python 3",
   "language": "python",
   "name": "python3"
  },
  "language_info": {
   "codemirror_mode": {
    "name": "ipython",
    "version": 3
   },
   "file_extension": ".py",
   "mimetype": "text/x-python",
   "name": "python",
   "nbconvert_exporter": "python",
   "pygments_lexer": "ipython3",
   "version": "3.7.1"
  }
 },
 "nbformat": 4,
 "nbformat_minor": 2
}
