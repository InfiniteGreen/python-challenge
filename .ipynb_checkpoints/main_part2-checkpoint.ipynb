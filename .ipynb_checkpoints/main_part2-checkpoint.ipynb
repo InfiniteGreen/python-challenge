{
 "cells": [
  {
   "cell_type": "code",
   "execution_count": 1,
   "metadata": {},
   "outputs": [],
   "source": [
    "# Dependencies\n",
    "import os\n",
    "import csv"
   ]
  },
  {
   "cell_type": "code",
   "execution_count": 2,
   "metadata": {},
   "outputs": [],
   "source": [
    "#filepath budget_data.csv\n",
    "poll_path = os.path.join('PyPoll','Resources','election_data.csv')"
   ]
  },
  {
   "cell_type": "code",
   "execution_count": 3,
   "metadata": {},
   "outputs": [],
   "source": [
    "#define variables\n",
    "candidate_list=[]\n",
    "unique_candidate_list=[]"
   ]
  },
  {
   "cell_type": "code",
   "execution_count": 4,
   "metadata": {},
   "outputs": [],
   "source": [
    "#read file\n",
    "\n",
    "with open (poll_path, newline='') as poll_csv:\n",
    "    #split into columns\n",
    "    poll_reader = csv.reader(poll_csv,delimiter=',')    \n",
    "    header = next(poll_reader)\n",
    "    #Loop through the data\n",
    "    for row in poll_reader:            \n",
    "        candidate_list.append(row[2])\n",
    "        if row[2] not in unique_candidate_list:\n",
    "            unique_candidate_list.append(row[2])\n",
    "#unique_candidate_list"
   ]
  },
  {
   "cell_type": "code",
   "execution_count": 5,
   "metadata": {},
   "outputs": [],
   "source": [
    "# Get total votes\n",
    "totalvotes = len(candidate_list)"
   ]
  },
  {
   "cell_type": "code",
   "execution_count": 6,
   "metadata": {},
   "outputs": [],
   "source": [
    "k=0\n",
    "vote_count=[]\n",
    "vote_percent=[]\n",
    "while k<len(unique_candidate_list):\n",
    "    vote_count.append(candidate_list.count(str(unique_candidate_list[k])))    \n",
    "    vote_percent.append(\"{:.3%}\".format(vote_count[k]/totalvotes))\n",
    "    k+=1\n",
    "#vote_count   \n",
    "#vote_percent \n",
    "#winner    \n"
   ]
  },
  {
   "cell_type": "code",
   "execution_count": 7,
   "metadata": {},
   "outputs": [
    {
     "data": {
      "text/plain": [
       "'Khan'"
      ]
     },
     "execution_count": 7,
     "metadata": {},
     "output_type": "execute_result"
    }
   ],
   "source": [
    "#Get the Poll winner\n",
    "winner=unique_candidate_list[vote_count.index(max(vote_count))]\n",
    "winner"
   ]
  },
  {
   "cell_type": "code",
   "execution_count": 8,
   "metadata": {},
   "outputs": [
    {
     "name": "stdout",
     "output_type": "stream",
     "text": [
      "Election Results\n",
      "---------------------------\n",
      "Total Votes: 3521001\n",
      "---------------------------\n",
      "Khan: 63.000% (2218231)\n",
      "Correy: 20.000% (704200)\n",
      "Li: 14.000% (492940)\n",
      "O'Tooley: 3.000% (105630)\n",
      "---------------------------\n",
      "Winner: Khan\n",
      "---------------------------\n"
     ]
    }
   ],
   "source": [
    "#Print results\n",
    "print(\"Election Results\")\n",
    "print(\"---------------------------\")\n",
    "print('Total Votes: ' + str(totalvotes))\n",
    "print(\"---------------------------\")   \n",
    "\n",
    "j=0\n",
    "while j<len(unique_candidate_list):\n",
    "    print(str(unique_candidate_list[j]) + ': ' + str(vote_percent[j]) + ' (' + str(vote_count[j]) + ')')    \n",
    "    j+=1\n",
    "    \n",
    "print(\"---------------------------\") \n",
    "print('Winner: ' + str(winner))\n",
    "print(\"---------------------------\") "
   ]
  },
  {
   "cell_type": "code",
   "execution_count": 9,
   "metadata": {},
   "outputs": [],
   "source": [
    "# Specify the file to write to\n",
    "output_path = os.path.join(\"poll_out.csv\")"
   ]
  },
  {
   "cell_type": "code",
   "execution_count": 10,
   "metadata": {},
   "outputs": [],
   "source": [
    "# Open the file using \"write\" mode\n",
    "with open(output_path, 'w', newline='') as pollfile:\n",
    "\n",
    "    # Initialize csv.writer\n",
    "    csvwriter = csv.writer(pollfile)\n",
    "\n",
    "    # Write the rows\n",
    "    csvwriter.writerow([\"Election Results\"])\n",
    "    csvwriter.writerow([\"---------------------------\"])\n",
    "    csvwriter.writerow(['Total Votes: ' + str(totalvotes)])\n",
    "    csvwriter.writerow([\"---------------------------\"])\n",
    "    \n",
    "    i=0\n",
    "    while i<len(unique_candidate_list):\n",
    "        csvwriter.writerow([str(unique_candidate_list[i]) + ': ' + str(vote_percent[i]) + ' (' + str(vote_count[i]) + ')'])\n",
    "        i+=1\n",
    "    \n",
    "    csvwriter.writerow([\"---------------------------\"]) \n",
    "    csvwriter.writerow(['Winner: ' + str(winner)])\n",
    "    csvwriter.writerow([\"---------------------------\"]) "
   ]
  }
 ],
 "metadata": {
  "kernelspec": {
   "display_name": "Python 3",
   "language": "python",
   "name": "python3"
  },
  "language_info": {
   "codemirror_mode": {
    "name": "ipython",
    "version": 3
   },
   "file_extension": ".py",
   "mimetype": "text/x-python",
   "name": "python",
   "nbconvert_exporter": "python",
   "pygments_lexer": "ipython3",
   "version": "3.7.1"
  }
 },
 "nbformat": 4,
 "nbformat_minor": 2
}
